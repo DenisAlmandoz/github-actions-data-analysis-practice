{
 "cells": [
  {
   "cell_type": "markdown",
   "source": [
    "# Simple data analysis\n",
    "This notebook reads a tiny CSV, computes a derived feature, fits a linear regression, and plots the result."
   ]
  },
  {
   "cell_type": "code",
   "execution_count": null,
   "source": [
    "import pandas as pd\n",
    "import matplotlib.pyplot as plt\n",
    "from sklearn.linear_model import LinearRegression\n",
    "from scripts.process import load_data, add_feature\n",
    "\n",
    "df = load_data('data/sample.csv')\n",
    "df = add_feature(df)\n",
    "df.head()"
   ]
  },
  {
   "cell_type": "code",
   "execution_count": null,
   "source": [
    "display(df.describe())\n",
    "model = LinearRegression()\n",
    "X = df[['x']].values.reshape(-1, 1)\n",
    "y = df['value'].values\n",
    "model.fit(X, y)\n",
    "print('coef, intercept:', model.coef_[0], model.intercept_)\n",
    "plt.scatter(df['x'], df['value'])\n",
    "import numpy as np\n",
    "xs = np.linspace(df['x'].min(), df['x'].max(), 100)\n",
    "ys = model.predict(xs.reshape(-1, 1))\n",
    "plt.plot(xs, ys)\n",
    "plt.xlabel('x')\n",
    "plt.ylabel('value')\n",
    "plt.title('value ~ x')\n",
    "plt.show()"
   ]
  }
 ],
 "metadata": {
  "kernelspec": {
    "display_name": "Python 3",
    "name": "python3"
  },
  "language_info": {
    "name": "python",
    "version": "3.11"
  },
  "vscode": {
    "interpreter": {
      "hash": ""
    }
  }
 },
 "nbformat": 4,
 "nbformat_minor": 5
}
